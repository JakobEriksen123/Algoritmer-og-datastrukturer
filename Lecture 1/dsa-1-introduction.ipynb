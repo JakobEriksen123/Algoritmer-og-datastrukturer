{
 "cells": [
  {
   "cell_type": "markdown",
   "metadata": {
    "slideshow": {
     "slide_type": "slide"
    }
   },
   "source": [
    "<center>\n",
    "<center>Algorithms & Data Structures VB-PRG5</center>\n",
    "\n",
    "***\n",
    "\n",
    "<center>Lecture 1</center>\n",
    "\n",
    "***\n",
    "\n",
    "<center>Introduction<br> + <br>Course Setup</center>  \n",
    "\n",
    "***\n",
    "\n",
    "<center>3 September 2021<center>\n",
    "<center>Rahman Peimankar<center>"
   ]
  },
  {
   "cell_type": "markdown",
   "metadata": {
    "slideshow": {
     "slide_type": "slide"
    }
   },
   "source": [
    "# Course Logistics "
   ]
  },
  {
   "cell_type": "markdown",
   "metadata": {
    "slideshow": {
     "slide_type": "-"
    }
   },
   "source": [
    "* **Lecture room:** U167 (Week 44 & 45 in U13)\n",
    "* **Date and time:** Monday – 12:00-16:00 (Week 44 & 45 [November, 5 & 12], which will be on Friday - 12:00-16:00) \n",
    "* **Online/physical Office hours:** Thursday – 15:00-16:00 (by appointment) \n",
    "* **Zoom link:** \n",
    "\n",
    "We will talk about format of the course and grading in details later on today! "
   ]
  },
  {
   "cell_type": "markdown",
   "metadata": {
    "slideshow": {
     "slide_type": "slide"
    }
   },
   "source": [
    "## My Contact Information"
   ]
  },
  {
   "cell_type": "markdown",
   "metadata": {
    "slideshow": {
     "slide_type": "-"
    }
   },
   "source": [
    "* **Instructor:** Abdolrahman (Rahman) Peimankar \n",
    "* **Affiliation:** Assistant Professor at The Maersk Mc-Kinney Moller Institute, SDU Health Informatics and Technology\n",
    "* **Email:** abpe@mmmi.sdu.dk \n",
    "* **Office location:** "
   ]
  },
  {
   "cell_type": "markdown",
   "metadata": {
    "slideshow": {
     "slide_type": "slide"
    }
   },
   "source": [
    "<center>\n",
    "<table><tr>\n",
    " \n",
    "<td>\n",
    "    Work Experience:\n",
    "    <img src=\"img/Qimage-29.JPG\" width=\"430\"/></td>\n",
    "\n",
    "<td>\n",
    "    Education:<img src=\"img/Qimage-30.JPG\" width=\"400\"/>\n",
    "    </td>\n",
    "</tr></table>"
   ]
  },
  {
   "cell_type": "markdown",
   "metadata": {
    "slideshow": {
     "slide_type": "fragment"
    }
   },
   "source": [
    "Can you guess which one is Iran?<br> \n",
    "\n",
    "Please vote [here!](https://PollEv.com/multiple_choice_polls/gj33wtHWsNAc6b47uxRO9/respond) \n",
    "\n",
    "* We will use Poll Everywhere software for short quizzes and feedback in the course!"
   ]
  },
  {
   "cell_type": "markdown",
   "metadata": {
    "slideshow": {
     "slide_type": "slide"
    }
   },
   "source": [
    "## Now it is your turn! 😊 "
   ]
  },
  {
   "cell_type": "markdown",
   "metadata": {
    "slideshow": {
     "slide_type": "-"
    }
   },
   "source": [
    "* Your name and education, and\n",
    "* If you are an exchange or SDU student"
   ]
  },
  {
   "cell_type": "markdown",
   "metadata": {
    "slideshow": {
     "slide_type": "slide"
    }
   },
   "source": [
    "# Lecture 1 - Agenda"
   ]
  },
  {
   "cell_type": "markdown",
   "metadata": {
    "slideshow": {
     "slide_type": "-"
    }
   },
   "source": [
    "1. Course Overview\n",
    "2. Course setup\n",
    "3. Basic Python Programming Elements\n",
    "4. Writing a Python Program"
   ]
  },
  {
   "cell_type": "markdown",
   "metadata": {
    "slideshow": {
     "slide_type": "slide"
    }
   },
   "source": [
    "<center>\n",
    "    \n",
    "# 1. Course Overview"
   ]
  },
  {
   "cell_type": "markdown",
   "metadata": {
    "slideshow": {
     "slide_type": "slide"
    }
   },
   "source": [
    "* **Lecture 1**: Course setup + Introduction\n",
    "* **Lecture 2**: Object Oriented Programming\n",
    "* **Lecture 3**: Big-O notation, Recursion\n",
    "* **Lecture 4**: Array Based Sequence\n",
    "* **Lecture 5**: Stacks, Queues, and Deques\n",
    "* **Lecture 6**: Linked Lists (Single, Double and Circular)\n",
    "* **Lecture 7**: Midterm presentation (Week 43 - October, 25)\n",
    "* **Lecture 8**: Priority Queue & Map\n",
    "* **Lecture 9**: Hash Tables\n",
    "* **Lecture 10**: Ordered Maps & Binary Search\n",
    "* **Lecture 11**: Sorting (Merge-Sort)\n",
    "* **Lecture 12**: Review & Conclusion \n"
   ]
  },
  {
   "cell_type": "markdown",
   "metadata": {
    "slideshow": {
     "slide_type": "fragment"
    }
   },
   "source": [
    "We will talk more about the Midterm presentation later on."
   ]
  },
  {
   "cell_type": "markdown",
   "metadata": {
    "slideshow": {
     "slide_type": "slide"
    }
   },
   "source": [
    "<center>\n",
    "\n",
    "# 2. Course setup"
   ]
  },
  {
   "cell_type": "markdown",
   "metadata": {
    "slideshow": {
     "slide_type": "slide"
    }
   },
   "source": [
    "### Reference book"
   ]
  },
  {
   "cell_type": "markdown",
   "metadata": {
    "slideshow": {
     "slide_type": "-"
    }
   },
   "source": [
    "Goodrich, Michael T., Roberto Tamassia, and Michael H. Goldwasser. **Data structures and algorithms in Python**. *John Wiley & Sons Ltd*, 2013."
   ]
  },
  {
   "cell_type": "markdown",
   "metadata": {
    "slideshow": {
     "slide_type": "-"
    }
   },
   "source": [
    "<center>\n",
    "<img src=\"img/Qimage-1.JPG\" width=\"350\"/>"
   ]
  },
  {
   "cell_type": "markdown",
   "metadata": {
    "slideshow": {
     "slide_type": "fragment"
    }
   },
   "source": [
    "**NOTE:** You will also need a laptop, which is capable of displaying and outputting graphics and running a web browser. Our laptops will be used in every session to do demos, hands-on tutorials and exercises, and presentations. "
   ]
  },
  {
   "cell_type": "markdown",
   "metadata": {
    "slideshow": {
     "slide_type": "slide"
    }
   },
   "source": [
    "### Computational setup"
   ]
  },
  {
   "cell_type": "markdown",
   "metadata": {
    "slideshow": {
     "slide_type": "-"
    }
   },
   "source": [
    "**Anaconda:** [Anaconda](https://www.anaconda.com/) can be downloaded and installed in order to use Jupyter Notebooks as a stand-alone solution on your machines/laptops. \n",
    "* We will use Anaconda to to develop and data analysis. \n",
    "* This will provide us an easy-to-use tool for writing text, code, and generating plots all in a single format called “notebook”. And many more!\n",
    "* It is also free!"
   ]
  },
  {
   "cell_type": "markdown",
   "metadata": {
    "slideshow": {
     "slide_type": "fragment"
    }
   },
   "source": [
    "**Please download and install Anaconda from the above link on your machines now.**"
   ]
  },
  {
   "cell_type": "markdown",
   "metadata": {
    "slideshow": {
     "slide_type": "slide"
    }
   },
   "source": [
    "**Git & GitHub:** We will use [GitHub](https://github.com/) to manage and share code and data.\n",
    "* GitHub is a very efficient way of managing multiple versions of data and codes.\n",
    "* You can share your codes with others easily.\n",
    "* Again, is is free!\n",
    "* Please create a GitHub account (free) **with your SDU email address** if you have not already done it.\n",
    "* You may also need to [download and install Git](https://git-scm.com/downloads) on your machines/laptops."
   ]
  },
  {
   "cell_type": "markdown",
   "metadata": {
    "slideshow": {
     "slide_type": "slide"
    }
   },
   "source": [
    "### Where to get lecture slides"
   ]
  },
  {
   "cell_type": "code",
   "execution_count": null,
   "metadata": {},
   "outputs": [],
   "source": []
  },
  {
   "cell_type": "code",
   "execution_count": null,
   "metadata": {},
   "outputs": [],
   "source": []
  },
  {
   "cell_type": "markdown",
   "metadata": {
    "slideshow": {
     "slide_type": "slide"
    }
   },
   "source": [
    "<center>\n",
    "    \n",
    "# 3. Basic Python Programming Elements"
   ]
  },
  {
   "cell_type": "markdown",
   "metadata": {
    "slideshow": {
     "slide_type": "-"
    }
   },
   "source": [
    "**Note:** I assume that you have prior Python programming experience.\n",
    "\n",
    "* This course does not provide a complete description of the Python language (there are many language references for that purpose).\n",
    "* Whirlwind Tour of Python, by Jake VanderPlas (free online book). (https://jakevdp.github.io/WhirlwindTourOfPython/)"
   ]
  },
  {
   "cell_type": "markdown",
   "metadata": {
    "slideshow": {
     "slide_type": "fragment"
    }
   },
   "source": [
    "* Python is an **interpreted** language.\n",
    "* Many **integrated development environments (IDEs)** provide rich software development platforms for Python,\n"
   ]
  },
  {
   "cell_type": "markdown",
   "metadata": {
    "slideshow": {
     "slide_type": "slide"
    }
   },
   "source": [
    "### A Simple Python Program"
   ]
  },
  {
   "cell_type": "code",
   "execution_count": 17,
   "metadata": {
    "slideshow": {
     "slide_type": "-"
    }
   },
   "outputs": [
    {
     "name": "nbtutor",
     "output_type": "stream",
     "text": [
      "Welcome to the GPA calculator.\n",
      "Please enter all your letter grades, one per line.\n",
      "Enter a blank line to designate the end.\n"
     ]
    }
   ],
   "source": [
    "print('Welcome to the GPA calculator.')\n",
    "print('Please enter all your letter grades, one per line.')\n",
    "print('Enter a blank line to designate the end.')\n",
    "# map from letter grade to point value\n",
    "points = {'A' :12, 'B' :10, 'C' :7, 'D' :4, 'E': 2, 'F' :0, 'G': -3}\n",
    "num_courses = 0\n",
    "total_points = 0\n",
    "done = False\n",
    "\n",
    "while not done:\n",
    "    grade = input( ) # read line from user\n",
    "    if grade == '': # empty line was entered\n",
    "        done = True\n",
    "    elif grade not in points: # unrecognized grade entered\n",
    "        print(\"Unknown grade {0} being ignored\".format(grade))\n",
    "    else:\n",
    "        num_courses += 1\n",
    "        total_points += points[grade]\n",
    "        \n",
    "if num_courses > 0: # avoid division by zero\n",
    "    print('Your GPA is {0:.3}' .format(total_points / num_courses))"
   ]
  },
  {
   "cell_type": "markdown",
   "metadata": {
    "slideshow": {
     "slide_type": "slide"
    }
   },
   "source": [
    "### Objects in Python"
   ]
  },
  {
   "cell_type": "markdown",
   "metadata": {
    "slideshow": {
     "slide_type": "-"
    }
   },
   "source": [
    "* Python is an object-oriented language and classes form the basis for all data types.\n",
    "* Here we introduce Python’s built-in classes such as ... (**can you name some of them?**)"
   ]
  },
  {
   "cell_type": "markdown",
   "metadata": {
    "slideshow": {
     "slide_type": "fragment"
    }
   },
   "source": [
    "#### 1. Identifiers\n",
    "* Identifiers in Python are case-sensitive.\n",
    "* Identifiers can be composed of almost any combination of letters, numerals, and underscore characters.\n",
    "* An identifier cannot begin with a numeral.\n",
    "* A Python identifier may be assigned to a special object named None.\n",
    "* Although an identifier has no declared type, the object to which it refers has a definite type (**dynamically typed** language)"
   ]
  },
  {
   "cell_type": "markdown",
   "metadata": {
    "slideshow": {
     "slide_type": "slide"
    }
   },
   "source": [
    "There are 33 pecially reserved words that cannot be used as identifier:\n",
    "\n",
    "<center>\n",
    "<img src=\"img/Qimage-2.JPG\" width=\"1200\"/>"
   ]
  },
  {
   "cell_type": "markdown",
   "metadata": {
    "slideshow": {
     "slide_type": "slide"
    }
   },
   "source": [
    "#### 2. Python’s Built-In Classes"
   ]
  },
  {
   "cell_type": "markdown",
   "metadata": {
    "slideshow": {
     "slide_type": "-"
    }
   },
   "source": [
    "<center>\n",
    "<img src=\"img/Qimage-3.JPG\" width=\"1200\"/>"
   ]
  },
  {
   "cell_type": "markdown",
   "metadata": {
    "slideshow": {
     "slide_type": "slide"
    }
   },
   "source": [
    "### Expressions and Operators"
   ]
  },
  {
   "cell_type": "markdown",
   "metadata": {
    "slideshow": {
     "slide_type": "-"
    }
   },
   "source": [
    "#### Logical Operators\n",
    "<center>\n",
    "<img src=\"img/Qimage-4.JPG\" width=\"300\"/>"
   ]
  },
  {
   "cell_type": "markdown",
   "metadata": {
    "slideshow": {
     "slide_type": "fragment"
    }
   },
   "source": [
    "#### Equality Operators\n",
    "\n",
    "<center>\n",
    "<img src=\"img/Qimage-5.JPG\" width=\"300\"/>"
   ]
  },
  {
   "cell_type": "markdown",
   "metadata": {
    "slideshow": {
     "slide_type": "slide"
    }
   },
   "source": [
    "#### Comparison Operators\n",
    "<center>\n",
    "<img src=\"img/Qimage-6.JPG\" width=\"300\"/>"
   ]
  },
  {
   "cell_type": "markdown",
   "metadata": {
    "slideshow": {
     "slide_type": "fragment"
    }
   },
   "source": [
    "#### Arithmetic Operators\n",
    "<center>\n",
    "<img src=\"img/Qimage-7.JPG\" width=\"300\"/>"
   ]
  },
  {
   "attachments": {},
   "cell_type": "markdown",
   "metadata": {
    "slideshow": {
     "slide_type": "slide"
    }
   },
   "source": [
    "#### Bitwise Operators\n",
    "<center>\n",
    "<img src=\"img/Qimage-8.JPG\" width=\"500\"/>"
   ]
  },
  {
   "attachments": {},
   "cell_type": "markdown",
   "metadata": {
    "slideshow": {
     "slide_type": "fragment"
    }
   },
   "source": [
    "#### Sequence Operators\n",
    "<center>\n",
    "<img src=\"img/Qimage-9.JPG\" width=\"700\"/>\n",
    "   "
   ]
  },
  {
   "cell_type": "markdown",
   "metadata": {},
   "source": [
    "<center>\n",
    "<img src=\"img/Qimage-10.JPG\" width=\"500\"/>"
   ]
  },
  {
   "cell_type": "markdown",
   "metadata": {
    "slideshow": {
     "slide_type": "slide"
    }
   },
   "source": [
    "#### Operators for Sets and Dictionaries"
   ]
  },
  {
   "cell_type": "markdown",
   "metadata": {
    "slideshow": {
     "slide_type": "-"
    }
   },
   "source": [
    "<center>\n",
    "<img src=\"img/Qimage-11.JPG\" width=\"500\"/>"
   ]
  },
  {
   "cell_type": "markdown",
   "metadata": {
    "slideshow": {
     "slide_type": "-"
    }
   },
   "source": [
    "<center>\n",
    "<img src=\"img/Qimage-12.JPG\" width=\"500\"/>"
   ]
  },
  {
   "cell_type": "markdown",
   "metadata": {
    "slideshow": {
     "slide_type": "slide"
    }
   },
   "source": [
    "#### Extended Assignment Operators"
   ]
  },
  {
   "cell_type": "code",
   "execution_count": 20,
   "metadata": {
    "slideshow": {
     "slide_type": "-"
    }
   },
   "outputs": [
    {
     "name": "stdout",
     "output_type": "stream",
     "text": [
      "[1, 2, 3]\n",
      "[1, 2, 3, 4, 5]\n",
      "[1, 2, 3, 4, 5, 6, 7]\n"
     ]
    }
   ],
   "source": [
    "alpha = [1, 2, 3]\n",
    "beta = alpha \n",
    "print(beta)\n",
    "beta += [4, 5] \n",
    "beta = beta + [6, 7] \n",
    "print(alpha)\n",
    "print(beta)"
   ]
  },
  {
   "cell_type": "markdown",
   "metadata": {
    "slideshow": {
     "slide_type": "slide"
    }
   },
   "source": [
    "### Conditionals"
   ]
  },
  {
   "cell_type": "code",
   "execution_count": 22,
   "metadata": {
    "slideshow": {
     "slide_type": "-"
    }
   },
   "outputs": [],
   "source": [
    "if first condition:\n",
    "    first body\n",
    "elif second condition:\n",
    "    second body\n",
    "elif third condition:\n",
    "    third body\n",
    "else:\n",
    "    fourth body"
   ]
  },
  {
   "cell_type": "markdown",
   "metadata": {
    "slideshow": {
     "slide_type": "fragment"
    }
   },
   "source": [
    "<center>\n",
    "<img src=\"img/Qimage-13.JPG\" width=\"200\"/>\n",
    "<center>\n",
    "<img src=\"img/Qimage-14.JPG\" width=\"550\"/>"
   ]
  },
  {
   "cell_type": "markdown",
   "metadata": {
    "slideshow": {
     "slide_type": "slide"
    }
   },
   "source": [
    "### While loops "
   ]
  },
  {
   "cell_type": "code",
   "execution_count": 25,
   "metadata": {
    "slideshow": {
     "slide_type": "-"
    }
   },
   "outputs": [
    {
     "name": "stdout",
     "output_type": "stream",
     "text": [
      "3\n"
     ]
    }
   ],
   "source": [
    "data = ['A', 'B', 'C', 'X', 'H']\n",
    "j = 0\n",
    "while j < len(data) and data[j] != 'X' :\n",
    "    j += 1\n",
    "print(j)"
   ]
  },
  {
   "cell_type": "markdown",
   "metadata": {
    "slideshow": {
     "slide_type": "fragment"
    }
   },
   "source": [
    "### For loops"
   ]
  },
  {
   "cell_type": "code",
   "execution_count": 28,
   "metadata": {
    "slideshow": {
     "slide_type": "-"
    }
   },
   "outputs": [
    {
     "name": "stdout",
     "output_type": "stream",
     "text": [
      "12\n"
     ]
    }
   ],
   "source": [
    "data = [1, 5, 4, 2]\n",
    "total = 0\n",
    "for val in data:\n",
    "    total += val\n",
    "print(total)"
   ]
  },
  {
   "cell_type": "markdown",
   "metadata": {
    "slideshow": {
     "slide_type": "slide"
    }
   },
   "source": [
    "### Functions"
   ]
  },
  {
   "cell_type": "code",
   "execution_count": 32,
   "metadata": {
    "slideshow": {
     "slide_type": "-"
    }
   },
   "outputs": [
    {
     "data": {
      "text/plain": [
       "True"
      ]
     },
     "execution_count": 32,
     "metadata": {},
     "output_type": "execute_result"
    }
   ],
   "source": [
    "def contains(data, target):\n",
    "    for item in data:\n",
    "        if item == target: # found a match\n",
    "            return True\n",
    "    return False\n",
    "\n",
    "contains([1,2,3,4], 3)"
   ]
  },
  {
   "cell_type": "markdown",
   "metadata": {
    "slideshow": {
     "slide_type": "slide"
    }
   },
   "source": [
    "### Python’s Built-In Functions"
   ]
  },
  {
   "cell_type": "markdown",
   "metadata": {
    "slideshow": {
     "slide_type": "-"
    }
   },
   "source": [
    "<center>\n",
    "<img src=\"img/Qimage-15.JPG\" width=\"550\"/>"
   ]
  },
  {
   "cell_type": "markdown",
   "metadata": {
    "slideshow": {
     "slide_type": "slide"
    }
   },
   "source": [
    "### Console Input and Output"
   ]
  },
  {
   "cell_type": "markdown",
   "metadata": {
    "slideshow": {
     "slide_type": "-"
    }
   },
   "source": [
    "#### The input Function"
   ]
  },
  {
   "cell_type": "code",
   "execution_count": 39,
   "metadata": {
    "slideshow": {
     "slide_type": "-"
    }
   },
   "outputs": [
    {
     "name": "stdout",
     "output_type": "stream",
     "text": [
      "Enter your age in years: 40\n",
      "Your target fat-burning heart rate is 117.065\n"
     ]
    }
   ],
   "source": [
    "age = int(input('Enter your age in years: '))\n",
    "max_heart_rate = 206.9 - (0.67 * age) # as per Med Sci Sports Exerc.\n",
    "target = 0.65 * max_heart_rate\n",
    "print('Your target fat-burning heart rate is', target)"
   ]
  },
  {
   "cell_type": "markdown",
   "metadata": {
    "slideshow": {
     "slide_type": "slide"
    }
   },
   "source": [
    "#### Reading from a files & writing to a file"
   ]
  },
  {
   "cell_type": "markdown",
   "metadata": {
    "slideshow": {
     "slide_type": "-"
    }
   },
   "source": [
    "<center>\n",
    "<img src=\"img/Qimage-16.JPG\" width=\"550\"/>"
   ]
  },
  {
   "cell_type": "code",
   "execution_count": 44,
   "metadata": {
    "slideshow": {
     "slide_type": "fragment"
    }
   },
   "outputs": [],
   "source": [
    "with open(\"results.txt\", \"w\") as fp:\n",
    "    fp.write('Hello World.\\n')"
   ]
  },
  {
   "cell_type": "markdown",
   "metadata": {
    "slideshow": {
     "slide_type": "slide"
    }
   },
   "source": [
    "### Exception Handling\n",
    "* Exceptions are unexpected events that occur during the execution of a program.\n",
    "* An exception might result from a logical error or an unanticipated situation\n",
    "* In Python, **_exceptions_** (also known as **_errors_**) are objects that are **_raised_** (or **_thrown_**) by code that encounters an unexpected circumstance.\n",
    "* The Python interpreter can also raise an exception should it encounter an unexpected condition, like running out of memory.\n",
    "* A raised error may be **_caught_** by a surrounding context that “handles” the exception in an appropriate fashion\n",
    "* If uncaught, an exception causes the interpreter to stop executing the program and to report an appropriate message."
   ]
  },
  {
   "cell_type": "markdown",
   "metadata": {
    "slideshow": {
     "slide_type": "slide"
    }
   },
   "source": [
    "#### Common Exception Types"
   ]
  },
  {
   "cell_type": "markdown",
   "metadata": {
    "slideshow": {
     "slide_type": "-"
    }
   },
   "source": [
    "<center>\n",
    "<img src=\"img/Qimage-17.JPG\" width=\"900\"/>"
   ]
  },
  {
   "cell_type": "code",
   "execution_count": null,
   "metadata": {
    "slideshow": {
     "slide_type": "fragment"
    }
   },
   "outputs": [],
   "source": [
    "def sqrt(x):\n",
    "    if not isinstance(x, (int, float)):\n",
    "        raise TypeError( x must be numeric )\n",
    "    elif x < 0:\n",
    "        raise ValueError( x cannot be negative )\n",
    "    # do the real work here..."
   ]
  },
  {
   "cell_type": "markdown",
   "metadata": {
    "slideshow": {
     "slide_type": "-"
    }
   },
   "source": [
    "* isinstance(obj, cls) returns True if object, obj, is an instance of class, cls, or any subclass of that type."
   ]
  },
  {
   "cell_type": "markdown",
   "metadata": {
    "slideshow": {
     "slide_type": "slide"
    }
   },
   "source": [
    "#### Catching an Exception"
   ]
  },
  {
   "cell_type": "code",
   "execution_count": 50,
   "metadata": {
    "slideshow": {
     "slide_type": "-"
    }
   },
   "outputs": [
    {
     "name": "stdout",
     "output_type": "stream",
     "text": [
      "Enter your age in years: \n",
      "That is an invalid age specification\n",
      "Enter your age in years: -2\n",
      "Your age must be positive\n",
      "Enter your age in years: 3\n"
     ]
    }
   ],
   "source": [
    "age = -1 # an initially invalid choice\n",
    "while age <= 0:\n",
    "    try:\n",
    "        age = int(input('Enter your age in years: '))\n",
    "        if age <= 0:\n",
    "            print('Your age must be positive')\n",
    "    except ValueError:\n",
    "        print('That is an invalid age specification')\n",
    "    except EOFError:\n",
    "        print('There was an unexpected error reading input.')"
   ]
  },
  {
   "cell_type": "code",
   "execution_count": null,
   "metadata": {},
   "outputs": [],
   "source": []
  }
 ],
 "metadata": {
  "celltoolbar": "Slideshow",
  "kernelspec": {
   "display_name": "Python 3",
   "language": "python",
   "name": "python3"
  },
  "language_info": {
   "codemirror_mode": {
    "name": "ipython",
    "version": 3
   },
   "file_extension": ".py",
   "mimetype": "text/x-python",
   "name": "python",
   "nbconvert_exporter": "python",
   "pygments_lexer": "ipython3",
   "version": "3.8.8"
  }
 },
 "nbformat": 4,
 "nbformat_minor": 4
}
